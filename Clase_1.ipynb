{
  "nbformat": 4,
  "nbformat_minor": 0,
  "metadata": {
    "colab": {
      "provenance": [],
      "toc_visible": true,
      "authorship_tag": "ABX9TyPOyVLOv6s+ObMvQVgcBTfU",
      "include_colab_link": true
    },
    "kernelspec": {
      "name": "python3",
      "display_name": "Python 3"
    },
    "language_info": {
      "name": "python"
    }
  },
  "cells": [
    {
      "cell_type": "markdown",
      "metadata": {
        "id": "view-in-github",
        "colab_type": "text"
      },
      "source": [
        "<a href=\"https://colab.research.google.com/github/frncscp/PyUniban/blob/main/Clase_1.ipynb\" target=\"_parent\"><img src=\"https://colab.research.google.com/assets/colab-badge.svg\" alt=\"Open In Colab\"/></a>"
      ]
    },
    {
      "cell_type": "markdown",
      "source": [
        "# **Introducción a Python**"
      ],
      "metadata": {
        "id": "Oks7XKOxLSNR"
      }
    },
    {
      "cell_type": "markdown",
      "source": [
        "Este cuaderno de Jupyter es para principiantes de programación en Python. Aprenderás los tipos de datos básicos, la sintaxis básica y cómo sumar dos números en Python."
      ],
      "metadata": {
        "id": "qganTOPFLXkJ"
      }
    },
    {
      "cell_type": "markdown",
      "source": [
        "# Antes de empezar:"
      ],
      "metadata": {
        "id": "i_k6WNoiL3Nu"
      }
    },
    {
      "cell_type": "markdown",
      "source": [
        "Google Colab es una plataforma que hace uso de Jupyter Notebook, una herramienta útil para esrcibir código, entre algunas de sus características están:"
      ],
      "metadata": {
        "id": "8vUPlFXYMlHU"
      }
    },
    {
      "cell_type": "markdown",
      "source": [
        "**Código por celdas**: Jupyter Notebook organiza el código en \"celdas\" o \"bloques\" que pueden ser ejecutados de forma independiente. Esto significa que los usuarios pueden dividir su código en secciones más manejables y experimentar con diferentes partes del código sin tener que volver a ejecutar todo el script.\n",
        "\n",
        "**Impresión automática de la última línea**: En Jupyter Notebook, la última línea de una celda que no tenga una función de retorno o una expresión asignada se imprimirá automáticamente como resultado de la celda. Esto es muy útil para obtener rápidamente el resultado de una operación o función sin tener que utilizar explícitamente la función de print().\n",
        "\n",
        "**Autocompletado de código**: Jupyter Notebook ofrece una función de autocompletado para ayudar a los usuarios a escribir código más rápido y con menos errores. Al escribir el comienzo de una función, variable o método, Jupyter Notebook sugerirá opciones basadas en el contexto del código.\n",
        "\n",
        "**Visualización de gráficos interactivos**: Jupyter Notebook puede visualizar gráficos interactivos y datos enriquecidos mediante bibliotecas como Matplotlib, Seaborn y Plotly. Esto permite a los usuarios interactuar con los datos de una manera más dinámica e intuitiva."
      ],
      "metadata": {
        "id": "Xw9kCat9L5x0"
      }
    },
    {
      "cell_type": "markdown",
      "source": [
        "# Tipos de datos en Python"
      ],
      "metadata": {
        "id": "avFccHK-LapP"
      }
    },
    {
      "cell_type": "markdown",
      "source": [
        "Los enteros (int) son números enteros positivos o negativos."
      ],
      "metadata": {
        "id": "FxUIHmcXLeS8"
      }
    },
    {
      "cell_type": "code",
      "source": [
        "x = 5\n",
        "y = -10\n",
        "#print(type(x))\n",
        "type(x), x, y"
      ],
      "metadata": {
        "colab": {
          "base_uri": "https://localhost:8080/"
        },
        "id": "SfTmy5u2LYga",
        "outputId": "3bbd9cb1-edb3-4f1f-febd-a75c0366df7c"
      },
      "execution_count": 4,
      "outputs": [
        {
          "output_type": "execute_result",
          "data": {
            "text/plain": [
              "(int, 5, -10)"
            ]
          },
          "metadata": {},
          "execution_count": 4
        }
      ]
    },
    {
      "cell_type": "markdown",
      "source": [
        "Los flotantes (float) son números decimales."
      ],
      "metadata": {
        "id": "JRB9G5MlLknJ"
      }
    },
    {
      "cell_type": "code",
      "source": [
        "pi = 3.14\n",
        "z = -0.5\n",
        "type(pi), pi, z"
      ],
      "metadata": {
        "colab": {
          "base_uri": "https://localhost:8080/"
        },
        "id": "bXX-Jf1QLgty",
        "outputId": "b8478e1e-08be-4f34-fe36-4382b138e012"
      },
      "execution_count": 5,
      "outputs": [
        {
          "output_type": "execute_result",
          "data": {
            "text/plain": [
              "(float, 3.14, -0.5)"
            ]
          },
          "metadata": {},
          "execution_count": 5
        }
      ]
    },
    {
      "cell_type": "markdown",
      "source": [
        "Las cadenas (str) son secuencias de caracteres."
      ],
      "metadata": {
        "id": "Mm9gruLDOC4m"
      }
    },
    {
      "cell_type": "code",
      "source": [
        "x = \"Hola, mundo!\"\n",
        "y = \"23\"\n",
        "type(y), x, y"
      ],
      "metadata": {
        "colab": {
          "base_uri": "https://localhost:8080/"
        },
        "id": "cWTjNIQwNFRy",
        "outputId": "53b1b7ba-700c-4692-8583-b6d91ef7f640"
      },
      "execution_count": 6,
      "outputs": [
        {
          "output_type": "execute_result",
          "data": {
            "text/plain": [
              "(str, 'Hola, mundo!', '23')"
            ]
          },
          "metadata": {},
          "execution_count": 6
        }
      ]
    },
    {
      "cell_type": "markdown",
      "source": [
        "Esto es lo que pasa cuando se suman dos cadenas:"
      ],
      "metadata": {
        "id": "omsVypFgOSnN"
      }
    },
    {
      "cell_type": "code",
      "source": [
        "\"3\" + \"6\", \"Instituto \" + \"Unibán\""
      ],
      "metadata": {
        "colab": {
          "base_uri": "https://localhost:8080/"
        },
        "id": "F38-PCm9OQ9G",
        "outputId": "de76884a-d813-49f1-bb9b-2491fcc730ca"
      },
      "execution_count": 9,
      "outputs": [
        {
          "output_type": "execute_result",
          "data": {
            "text/plain": [
              "('36', 'Instituto Unibán')"
            ]
          },
          "metadata": {},
          "execution_count": 9
        }
      ]
    },
    {
      "cell_type": "markdown",
      "source": [
        "Los booleanos (bool) son valores Verdadero (True) o Falso (False). Deben escribirse en mayúsculas."
      ],
      "metadata": {
        "id": "N_G86eZ9OgFm"
      }
    },
    {
      "cell_type": "code",
      "source": [
        "t = True\n",
        "f = False\n",
        "type(t), t, f"
      ],
      "metadata": {
        "colab": {
          "base_uri": "https://localhost:8080/"
        },
        "id": "CR6WNdOfOduz",
        "outputId": "38dc642d-3f02-4005-eba1-c49cf899adee"
      },
      "execution_count": 10,
      "outputs": [
        {
          "output_type": "execute_result",
          "data": {
            "text/plain": [
              "(bool, True, False)"
            ]
          },
          "metadata": {},
          "execution_count": 10
        }
      ]
    },
    {
      "cell_type": "markdown",
      "source": [
        "Se pueden usar para validar comparaciones entre valores."
      ],
      "metadata": {
        "id": "3nfYbddLPElA"
      }
    },
    {
      "cell_type": "markdown",
      "source": [
        "## Operadores"
      ],
      "metadata": {
        "id": "WbITsD_uPdy4"
      }
    },
    {
      "cell_type": "markdown",
      "source": [
        "Estos permiten comparar y asignar valores \n",
        "\n",
        "*   = sirve para asignar un valor a una variable (por ejemplo, en numero = 2, se está asignado a la variable numero el valor 2), siempre se asigna de izquierda a derecha\n",
        "\n",
        "\n",
        "*   == sirve para comparar dos valores y devuelve un booleano (por ejemplo, si x vale 3, y z vale 6, al operar x < z (3 < 6) devuelve True, porque 3 SI es menor a 6)\n",
        "\n",
        "\n",
        "*  En operaciones matemáticas, \"+\" para  suma, \"-\" para resta, \"*\" para multiplicación, \"/\" para división, \"()\" para usar paréntesis en operaciones, \"//\" para división entera, \"**\" para exponentes y \"%\" para módulos.\n",
        "\n"
      ],
      "metadata": {
        "id": "ljhkcYYCPhJ7"
      }
    },
    {
      "cell_type": "code",
      "source": [
        "num_1 = 3\n",
        "num_2 = 4\n",
        "\n",
        "print('¿3 es mayor a 6?',num_1 > num_2)\n",
        "print('¿3 es igual a 6?', num_1 == num_2)\n",
        "print('¿3 es menor a 6?', num_1 < num_2)\n",
        "\n",
        "print('3+4:', num_1 + num_2)\n",
        "print('3+4 sin variables:',3+4)\n",
        "\n",
        "print('3-4:', num_1 - num_2)\n",
        "print('3*4:', num_1 * num_2)\n",
        "print('3/4:', num_1 / num_2, 'su tipo de variable es', type(num_1 / num_2))\n",
        "print('División entera de 3/4:', num_1 // num_2, 'su tipo de variable es', type(num_1 // num_2))\n",
        "print('Redondeo de 3/4 con función round():',round(3/4))\n",
        "print('3 elevado a 4:', num_1**num_2)\n",
        "print('Módulo entre 3 y 4:', num_1 % num_2)"
      ],
      "metadata": {
        "colab": {
          "base_uri": "https://localhost:8080/"
        },
        "id": "kal6jsPGPKvR",
        "outputId": "a5c5ba25-280f-4469-9bce-3a33b54042b8"
      },
      "execution_count": 25,
      "outputs": [
        {
          "output_type": "stream",
          "name": "stdout",
          "text": [
            "¿3 es mayor a 6? False\n",
            "¿3 es igual a 6? False\n",
            "¿3 es menor a 6? True\n",
            "3+4: 7\n",
            "3+4 sin variables: 7\n",
            "3-4: -1\n",
            "3*4: 12\n",
            "3/4: 0.75 su tipo de variable es <class 'float'>\n",
            "División entera de 3/4: 0 su tipo de variable es <class 'int'>\n",
            "Redondeo de 3/4 con función round(): 1\n",
            "3 elevado a 4: 81\n",
            "Módulo entre 3 y 4: 3\n"
          ]
        }
      ]
    },
    {
      "cell_type": "markdown",
      "source": [
        "## Funciones"
      ],
      "metadata": {
        "id": "ciHmKHFMS4jP"
      }
    },
    {
      "cell_type": "markdown",
      "source": [
        "La base de Python está en dos formas de escribir código: programación orientada a objetos (un poco más complicada) y programación funcional.\n",
        "\n",
        "Una función es como una máquina a la cuál se le da un valor y devuelve otro, de hecho, ya han usado varias funciones, como print() y type().\n",
        "\n",
        "Una función está compuesta de un nombre y unos argumentos, por ejemplo, type es el nombre de una función, su argumento es una variable y nos devuelve qué tipo de dato estamos usando.\n",
        "\n",
        "Se pueden crear funciones, pero por ahora, centrémonos en las que python ya nos ofrece, por ejemplo:"
      ],
      "metadata": {
        "id": "W2NqgVcVTCFa"
      }
    },
    {
      "cell_type": "code",
      "source": [
        "print('hola', 42, False) #el nombre de la función es \"print\"\n",
        "#su argumento puede ser cualquier tipo de dato, y devuelve el dato en la consola."
      ],
      "metadata": {
        "colab": {
          "base_uri": "https://localhost:8080/"
        },
        "id": "Kql4yYAkT6AA",
        "outputId": "bfbabb36-6132-4172-d424-c9fa4d73652d"
      },
      "execution_count": 29,
      "outputs": [
        {
          "output_type": "stream",
          "name": "stdout",
          "text": [
            "hola 42 False\n"
          ]
        }
      ]
    },
    {
      "cell_type": "code",
      "source": [
        "nombre = input('escribe tu nombre: ') #el nombre de la función es \"input\"\n",
        "#solo acepta una cadena como argumento, y devuelve una entrada de texto que almacena en\n",
        "#la variable a la que haya sido asignada\n",
        "\n",
        "#si no se especifica valor, la entrada siempre va a ser una cadena, si se quiere\n",
        "#evitar, se debe colocar el tipo de dato, como en int(input()), esto puede generar\n",
        "#errores si el usuario se equivoca\n",
        "\n",
        "nombre"
      ],
      "metadata": {
        "colab": {
          "base_uri": "https://localhost:8080/",
          "height": 55
        },
        "id": "OK5RK4GdYHeb",
        "outputId": "c8ffaab9-a81f-42c8-bf84-896c10f54827"
      },
      "execution_count": 31,
      "outputs": [
        {
          "name": "stdout",
          "output_type": "stream",
          "text": [
            "escribe tu nombre: pepe\n"
          ]
        },
        {
          "output_type": "execute_result",
          "data": {
            "text/plain": [
              "'pepe'"
            ],
            "application/vnd.google.colaboratory.intrinsic+json": {
              "type": "string"
            }
          },
          "metadata": {},
          "execution_count": 31
        }
      ]
    },
    {
      "cell_type": "code",
      "source": [
        "pi_aproximado = round(3.1416, 2) #el nombre de la función es \"round\"\n",
        "#Necesita dos argumentos, un número (sea entero o flotante) y la cantidad de decimales \n",
        "#a los que se quiere redondear, si no se coloca ninguno, se redondea a número entero\n",
        "#si se coloca un cero y su argumento fue un entero, devuelve un flotante\n",
        "\n",
        "pi_ingeniero = round(3.14)\n",
        "pi_ingeniero_flotante = round(3.14, 0)\n",
        "\n",
        "pi_aproximado, pi_ingeniero, pi_ingeniero_flotante"
      ],
      "metadata": {
        "colab": {
          "base_uri": "https://localhost:8080/"
        },
        "id": "985UQPTtY5uv",
        "outputId": "6f47d1cd-f864-4715-d6f9-4491cfc9e75c"
      },
      "execution_count": 37,
      "outputs": [
        {
          "output_type": "execute_result",
          "data": {
            "text/plain": [
              "(3.14, 3, 3.0)"
            ]
          },
          "metadata": {},
          "execution_count": 37
        }
      ]
    },
    {
      "cell_type": "markdown",
      "source": [
        "Los tipos de datos también sirven como funciones, y permiten trasladar un valor de un tipo de dato a otro (siempre y cuando sea posible)"
      ],
      "metadata": {
        "id": "C_9DJTSPU6CD"
      }
    },
    {
      "cell_type": "code",
      "source": [
        "print(int('3')) #aquí hay una función llamada print, cuyo argumento es la función int\n",
        "#que a su vez tiene un argumento, la cadena 3, el código funciona de adentro hacia afuera\n",
        "#primero el 3 cadena se convierte a 3 entero, y luego se imprime en la pantalla\n",
        "\n",
        "#también se podría crear una variable, convertirla y luego imprimirla\n",
        "tres = '3'\n",
        "\n",
        "print(int(tres)) #la diferencia con esta línea y el print del final, es que aquí no se asignó\n",
        "#nada nuevo a la variable tres, por lo que tres sigue siendo \"3\", y no 3\n",
        "\n",
        "print('Ahora mismo el tipo de dato de tres es:', type(tres))\n",
        "tres = int(tres)\n",
        "print(tres)\n",
        "print('Ahora mismo el tipo de dato de tres es:', type(tres))"
      ],
      "metadata": {
        "colab": {
          "base_uri": "https://localhost:8080/"
        },
        "id": "qTMVuBxpVArd",
        "outputId": "373e8388-e0a8-486a-d670-731b6a3419cb"
      },
      "execution_count": 24,
      "outputs": [
        {
          "output_type": "stream",
          "name": "stdout",
          "text": [
            "3\n",
            "3\n",
            "Ahora mismo el tipo de dato de tres es: <class 'str'>\n",
            "3\n",
            "Ahora mismo el tipo de dato de tres es: <class 'int'>\n"
          ]
        }
      ]
    },
    {
      "cell_type": "markdown",
      "source": [
        "# Es tu turno de probar"
      ],
      "metadata": {
        "id": "VBk-doLsWhBl"
      }
    },
    {
      "cell_type": "markdown",
      "source": [
        "Escribe un código que tenga dos variables, que sean entradas de texto (cadena), luego convierte su valor, elige cualquiera de los operadores matemáticos vistos, e imprime un mensaje que describa el resultado, por ejemplo: La suma de 3 y 4 es 7"
      ],
      "metadata": {
        "id": "nm_W-tESWoGX"
      }
    },
    {
      "cell_type": "code",
      "source": [
        "#1. CREA LAS DOS VARIABLES QUE ACEPTEN ENTRADAS\n",
        "\n",
        "\n",
        "\n",
        "\n",
        "#2. CONVIERTE SU VALOR A ENTERO O FLOTANTE\n",
        "\n",
        "\n",
        "\n",
        "\n",
        "#3. REALIZA LA OPERACIÓN (TAMBIÉN LA PUEDES HACER EN LA RESPUESTA)\n",
        "\n",
        "\n",
        "\n",
        "\n",
        "#4. IMPRIME EL RESULTADO\n",
        "\n",
        "\n",
        "\n"
      ],
      "metadata": {
        "id": "Ahru5Q76WmL4"
      },
      "execution_count": null,
      "outputs": []
    },
    {
      "cell_type": "markdown",
      "source": [
        "Escribe un código que tome 4 variables y permita conocer su promedio decimal y aproximado"
      ],
      "metadata": {
        "id": "hjLpltSNXl5m"
      }
    },
    {
      "cell_type": "code",
      "source": [
        "#1. CREA LAS 4 VARIABLES\n",
        "\n",
        "\n",
        "\n",
        "\n",
        "#2. PÁSALAS A ENTERO O FLOTANTE SI LO VES NECESARIO\n",
        "\n",
        "\n",
        "\n",
        "\n",
        "#3. DIVIDE LOS VALORES ENTRE 4 Y UTILIZA LA DIVISÓN ENTERA O LA FUNCIÓN ROUND()\n",
        "\n",
        "\n",
        "\n",
        "\n",
        "#4. IMPRIME EL RESULTADO\n",
        "\n",
        "\n",
        "\n"
      ],
      "metadata": {
        "id": "cfEk6PyPXq-y"
      },
      "execution_count": null,
      "outputs": []
    }
  ]
}